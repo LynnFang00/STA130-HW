{
 "cells": [
  {
   "cell_type": "code",
   "execution_count": 1,
   "id": "5e19ce66",
   "metadata": {},
   "outputs": [
    {
     "name": "stderr",
     "output_type": "stream",
     "text": [
      "/tmp/ipykernel_426/150305857.py:5: DtypeWarning: Columns (408,1001,1002,1006,1007,1008,1080,1113,1115,1116,1117,1118,1119,1120,1121,1124,1125,1126,1127,1128,1213,1214,1215,1216,1217,1218,1342,1343,1344,1345,1346,1347,1348,1349,1390,1391,1393,1463,1549,1552,1555,1558,1561) have mixed types. Specify dtype option on import or set low_memory=False.\n",
      "  df = pd.read_csv(file_path)\n"
     ]
    },
    {
     "name": "stdout",
     "output_type": "stream",
     "text": [
      "    UNIQUE_id  UNIQUE_num_records ELIGIBLE_consent GEO_residence_canada  \\\n",
      "0  cscs_00001                   1              Yes                  Yes   \n",
      "1  cscs_00002                   1              Yes                  Yes   \n",
      "2  cscs_00003                   1              Yes                  Yes   \n",
      "3  cscs_00005                   1              Yes                  Yes   \n",
      "4  cscs_00006                   1              Yes                  Yes   \n",
      "\n",
      "       GEO_province  DEMO_age DEMO_gender DEMO_identity_vetrans  \\\n",
      "0  British Columbia      71.0  Non-binary                   NaN   \n",
      "1           Ontario      69.0       Woman                   NaN   \n",
      "2            Quebec      56.0       Woman                   NaN   \n",
      "3               NaN      54.0       Woman                   NaN   \n",
      "4           Ontario      30.0         Man          Not Selected   \n",
      "\n",
      "                            DEMO_identity_indigenous  \\\n",
      "0                                                NaN   \n",
      "1                                                NaN   \n",
      "2                                                NaN   \n",
      "3                                                NaN   \n",
      "4  Indigenous peoples (e.g., First Nations, Métis...   \n",
      "\n",
      "                           DEMO_identity_lgbtq  ...  \\\n",
      "0  Sexual or gender minorities (e.g., LGBTQ2+)  ...   \n",
      "1                                 Not Selected  ...   \n",
      "2                                 Not Selected  ...   \n",
      "3                                 Not Selected  ...   \n",
      "4  Sexual or gender minorities (e.g., LGBTQ2+)  ...   \n",
      "\n",
      "  PSYCH_body_self_image_questionnaire_height_dissatisfaction_score  \\\n",
      "0                                                NaN                 \n",
      "1                                                3.0                 \n",
      "2                                                NaN                 \n",
      "3                                                NaN                 \n",
      "4                                                NaN                 \n",
      "\n",
      "  PSYCH_body_self_image_questionnaire_fatness_evaluation_score  \\\n",
      "0                                                NaN             \n",
      "1                                                8.0             \n",
      "2                                                NaN             \n",
      "3                                                NaN             \n",
      "4                                                NaN             \n",
      "\n",
      "  PSYCH_body_self_image_questionnaire_negative_affect_score  \\\n",
      "0                                                NaN          \n",
      "1                                                3.0          \n",
      "2                                                NaN          \n",
      "3                                                NaN          \n",
      "4                                                NaN          \n",
      "\n",
      "  PSYCH_body_self_image_questionnaire_social_dependence_score  \\\n",
      "0                                                NaN            \n",
      "1                                                3.0            \n",
      "2                                                NaN            \n",
      "3                                                NaN            \n",
      "4                                                NaN            \n",
      "\n",
      "  PSYCH_big_five_inventory_agreeable_score  \\\n",
      "0                                      NaN   \n",
      "1                                      NaN   \n",
      "2                                      NaN   \n",
      "3                                     28.0   \n",
      "4                                      NaN   \n",
      "\n",
      "  PSYCH_big_five_inventory_conscientious_score  \\\n",
      "0                                          NaN   \n",
      "1                                          NaN   \n",
      "2                                          NaN   \n",
      "3                                         34.0   \n",
      "4                                          NaN   \n",
      "\n",
      "  PSYCH_big_five_inventory_extraverted_score  \\\n",
      "0                                        NaN   \n",
      "1                                        NaN   \n",
      "2                                        NaN   \n",
      "3                                       30.0   \n",
      "4                                        NaN   \n",
      "\n",
      "  PSYCH_big_five_inventory_neurotic_score PSYCH_big_five_inventory_open_score  \\\n",
      "0                                     NaN                                 NaN   \n",
      "1                                     NaN                                 NaN   \n",
      "2                                     NaN                                 NaN   \n",
      "3                                    32.0                                37.0   \n",
      "4                                     NaN                                 NaN   \n",
      "\n",
      "  REMOVE_case  \n",
      "0          No  \n",
      "1          No  \n",
      "2          No  \n",
      "3          No  \n",
      "4          No  \n",
      "\n",
      "[5 rows x 1794 columns]\n"
     ]
    }
   ],
   "source": [
    "import pandas as pd\n",
    "\n",
    "# Load the CSV data into a DataFrame\n",
    "file_path = 'CSCS_data_anon (1).csv'  # Replace this with the correct path if needed\n",
    "df = pd.read_csv(file_path)\n",
    "\n",
    "# Display the first few rows to inspect the data\n",
    "print(df.head())\n"
   ]
  },
  {
   "cell_type": "code",
   "execution_count": 6,
   "id": "24726af6",
   "metadata": {
    "scrolled": true
   },
   "outputs": [
    {
     "name": "stdout",
     "output_type": "stream",
     "text": [
      "   COVID_prevention_masks          COVID_vaccinated\n",
      "0        Somewhat closely  Yes, three or more doses\n",
      "1              Not at all  Yes, three or more doses\n",
      "2              Not at all  Yes, three or more doses\n",
      "3              Not at all  Yes, three or more doses\n",
      "4            Very closely             Yes, one dose\n",
      "5            Very closely  Yes, three or more doses\n",
      "6        Somewhat closely            Yes, two doses\n",
      "7            Very closely  Yes, three or more doses\n",
      "8            Very closely             Yes, one dose\n",
      "9              Not at all  Yes, three or more doses\n",
      "10             Not at all                        No\n"
     ]
    }
   ],
   "source": [
    "# Subset the dataset to include only the two variables\n",
    "subset_df = df[['COVID_prevention_masks', 'COVID_vaccinated']]\n",
    "\n",
    "# Display the first 10 rows of the subset\n",
    "print(subset_df.head(11))\n"
   ]
  },
  {
   "cell_type": "code",
   "execution_count": null,
   "id": "1da7f8bd",
   "metadata": {},
   "outputs": [],
   "source": []
  },
  {
   "cell_type": "code",
   "execution_count": 3,
   "id": "f946aaee",
   "metadata": {},
   "outputs": [
    {
     "name": "stdout",
     "output_type": "stream",
     "text": [
      "   COVID_prevention_masks          COVID_vaccinated\n",
      "0                     1.0  Yes, three or more doses\n",
      "1                     0.0  Yes, three or more doses\n",
      "2                     0.0  Yes, three or more doses\n",
      "3                     0.0  Yes, three or more doses\n",
      "4                     2.0             Yes, one dose\n",
      "5                     2.0  Yes, three or more doses\n",
      "6                     1.0            Yes, two doses\n",
      "7                     2.0  Yes, three or more doses\n",
      "8                     2.0             Yes, one dose\n",
      "9                     0.0  Yes, three or more doses\n",
      "10                    0.0                        No\n",
      "11                    0.0                        No\n",
      "13                    2.0            Yes, two doses\n",
      "14                    0.0           Yes, four doses\n",
      "15                    2.0  Yes, three or more doses\n",
      "   COVID_prevention_masks          COVID_vaccinated\n",
      "0                     1.0  Yes, three or more doses\n",
      "1                     0.0  Yes, three or more doses\n",
      "2                     0.0  Yes, three or more doses\n",
      "3                     0.0  Yes, three or more doses\n",
      "4                     2.0             Yes, one dose\n",
      "5                     2.0  Yes, three or more doses\n",
      "6                     1.0            Yes, two doses\n",
      "7                     2.0  Yes, three or more doses\n",
      "8                     2.0             Yes, one dose\n",
      "9                     0.0  Yes, three or more doses\n",
      "13                    2.0            Yes, two doses\n",
      "14                    0.0           Yes, four doses\n",
      "15                    2.0  Yes, three or more doses\n",
      "17                    1.0           Yes, four doses\n",
      "19                    2.0            Yes, two doses\n",
      "95% Confidence Interval for mask adherence: [1.15, 1.19]\n",
      "Conclusion: Vaccinated people still wear masks in public.\n"
     ]
    },
    {
     "data": {
      "image/png": "[encoded data removed]",
      "text/plain": [
       "<Figure size 1000x600 with 1 Axes>"
      ]
     },
     "metadata": {},
     "output_type": "display_data"
    }
   ],
   "source": [
    "import pandas as pd\n",
    "import numpy as np\n",
    "import matplotlib.pyplot as plt\n",
    "\n",
    "# Assuming you already have the subset\n",
    "# subset_df = df[['COVID_prevention_masks', 'COVID_vaccinated']]\n",
    "\n",
    "# Step 1: Map categorical values to numerical values for `COVID_prevention_masks` using `.loc`\n",
    "subset_df.loc[:, 'COVID_prevention_masks'] = subset_df['COVID_prevention_masks'].map({\n",
    "    'Not at all': 0,\n",
    "    'Somewhat closely': 1,\n",
    "    'Very closely': 2\n",
    "})\n",
    "\n",
    "# Step 2: Drop rows with missing values in the subset\n",
    "subset_cleaned = subset_df.dropna()\n",
    "\n",
    "# Step 3: Filter only vaccinated individuals (at least one dose)\n",
    "vaccinated_df = subset_cleaned[subset_cleaned['COVID_vaccinated'] != 'No']\n",
    "\n",
    "# Step 4: Perform Bootstrapping with a fixed random seed\n",
    "n_bootstrap = 10000  # Number of bootstrap samples\n",
    "bootstrap_means = []\n",
    "\n",
    "# Set random seed for reproducibility\n",
    "np.random.seed(42)\n",
    "\n",
    "# Generate bootstrap samples and calculate means\n",
    "for _ in range(n_bootstrap):\n",
    "    sample = vaccinated_df['COVID_prevention_masks'].sample(frac=1, replace=True)\n",
    "    bootstrap_means.append(sample.mean())\n",
    "\n",
    "# Clean bootstrap_means for invalid values\n",
    "bootstrap_means_clean = [mean for mean in bootstrap_means if pd.notnull(mean) and np.isfinite(mean)]\n",
    "\n",
    "# Step 5: Calculate 95% Confidence Interval\n",
    "lower_bound = np.percentile(bootstrap_means_clean, 2.5)\n",
    "upper_bound = np.percentile(bootstrap_means_clean, 97.5)\n",
    "\n",
    "# Step 6: Hypothesis Testing\n",
    "if lower_bound <= 0 <= upper_bound:\n",
    "    conclusion = \"Not enough evidence to reject the hypothesis that vaccinated people do not wear masks at all.\"\n",
    "else:\n",
    "    conclusion = \"Vaccinated people still wear masks in public.\"\n",
    "\n",
    "# Print results\n",
    "print(f\"95% Confidence Interval for mask adherence: [{lower_bound:.2f}, {upper_bound:.2f}]\")\n",
    "print(f\"Conclusion: {conclusion}\")\n",
    "\n",
    "# Step 7: Visualization\n",
    "plt.figure(figsize=(10, 6))\n",
    "plt.hist(bootstrap_means_clean, bins=30, color='skyblue', edgecolor='black', alpha=0.7, label='Bootstrap Means')\n",
    "\n",
    "# Add vertical lines for the 95% Confidence Interval\n",
    "plt.axvline(x=lower_bound, color='red', linestyle='--', linewidth=2, label=f'Lower Bound ({lower_bound:.2f})')\n",
    "plt.axvline(x=upper_bound, color='red', linestyle='--', linewidth=2, label=f'Upper Bound ({upper_bound:.2f})')\n",
    "\n",
    "# Add vertical line for zero\n",
    "plt.axvline(x=0, color='green', linestyle='-', linewidth=2, label='Hypothesis Value (0)')\n",
    "\n",
    "# Add labels and title\n",
    "plt.title('Bootstrap Distribution of Mask Adherence Means', fontsize=14)\n",
    "plt.xlabel('Mean Mask Adherence', fontsize=12)\n",
    "plt.ylabel('Frequency', fontsize=12)\n",
    "plt.legend(fontsize=10)\n",
    "plt.grid(axis='y', linestyle='--', alpha=0.7)\n",
    "\n",
    "# Show the plot\n",
    "plt.tight_layout()\n",
    "plt.show()\n"
   ]
  },
  {
   "cell_type": "markdown",
   "id": "b4f128a4",
   "metadata": {},
   "source": [
    "**- Question: How does vaccination status influence the likelihood of individuals wearing masks in public settings? Hypothesis: Individuals who have received at least one dose of the COVID-19 vaccine do not wear masks in public** <br>\n",
    "**- Method of analysis: Bootstrapping on observed data** <br>\n",
    "**- Below is a first few rows of the collected data from the CSCS dataset**<br>"
   ]
  },
  {
   "cell_type": "code",
   "execution_count": 7,
   "id": "3bbf47db",
   "metadata": {},
   "outputs": [
    {
     "name": "stdout",
     "output_type": "stream",
     "text": [
      "   COVID_prevention_masks          COVID_vaccinated\n",
      "0        Somewhat closely  Yes, three or more doses\n",
      "1              Not at all  Yes, three or more doses\n",
      "2              Not at all  Yes, three or more doses\n",
      "3              Not at all  Yes, three or more doses\n",
      "4            Very closely             Yes, one dose\n",
      "5            Very closely  Yes, three or more doses\n",
      "6        Somewhat closely            Yes, two doses\n",
      "7            Very closely  Yes, three or more doses\n",
      "8            Very closely             Yes, one dose\n",
      "9              Not at all  Yes, three or more doses\n",
      "10             Not at all                        No\n"
     ]
    }
   ],
   "source": [
    "print(subset_df.head(11))"
   ]
  },
  {
   "cell_type": "markdown",
   "id": "80e2beb3",
   "metadata": {},
   "source": [
    "- Process: Assign a discrete value for each categorical value of the variable COVID_prevention_masks: 0 for Not at all, 1 for Somewhat closely, 2 for Very closely Drop the observations with missing values From the variable COVID_vaccinated, this analysis will omit those who are not vaccinated, and only take into account people who at least have one dose of COVID-19 vaccine. \n",
    "- **Below is the first few rows in the dataset after doing data cleaning, which involves dropping NAN and exclude those who are not vaccinated. (Include the data table below, and the bootstrap plot)**"
   ]
  },
  {
   "cell_type": "code",
   "execution_count": 9,
   "id": "8a782614",
   "metadata": {},
   "outputs": [
    {
     "name": "stdout",
     "output_type": "stream",
     "text": [
      "   COVID_prevention_masks          COVID_vaccinated\n",
      "0                     1.0  Yes, three or more doses\n",
      "1                     0.0  Yes, three or more doses\n",
      "2                     0.0  Yes, three or more doses\n",
      "3                     0.0  Yes, three or more doses\n",
      "4                     2.0             Yes, one dose\n",
      "5                     2.0  Yes, three or more doses\n",
      "6                     1.0            Yes, two doses\n",
      "7                     2.0  Yes, three or more doses\n",
      "8                     2.0             Yes, one dose\n",
      "9                     0.0  Yes, three or more doses\n",
      "13                    2.0            Yes, two doses\n"
     ]
    }
   ],
   "source": [
    "print(vaccinated_df.head(11))"
   ]
  },
  {
   "cell_type": "markdown",
   "id": "c51c5cce",
   "metadata": {},
   "source": [
    "- Then from the observed variable COVID_prevention_masks, I will bootstrap 10000 samples with replacement, and create a random seed for reproduction. Then from the bootstrapped sample, I will find the 95% Confidence Interval, wich is (1.15, 1.19). The 95% confidence interval depicts that 0 is not a plausible value, so I have 95% confidence to reject the null hypothesis of vaccinated people do not wear mask at all in public, and conclude that, vaccinated people still where mask in public. Since the CI contains values that is relatively close to 1, I can say that their mask wearing adherence is somewhat closely."
   ]
  }
 ],
 "metadata": {
  "kernelspec": {
   "display_name": "Python 3 (ipykernel)",
   "language": "python",
   "name": "python3"
  },
  "language_info": {
   "codemirror_mode": {
    "name": "ipython",
    "version": 3
   },
   "file_extension": ".py",
   "mimetype": "text/x-python",
   "name": "python",
   "nbconvert_exporter": "python",
   "pygments_lexer": "ipython3",
   "version": "3.11.6"
  }
 },
 "nbformat": 4,
 "nbformat_minor": 5
}
